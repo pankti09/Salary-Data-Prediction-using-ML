{
 "cells": [
  {
   "cell_type": "code",
   "execution_count": 1,
   "id": "super-attraction",
   "metadata": {
    "_cell_guid": "b1076dfc-b9ad-4769-8c92-a6c4dae69d19",
    "_uuid": "8f2839f25d086af736a60e9eeb907d3b93b6e0e5",
    "execution": {
     "iopub.execute_input": "2021-06-11T19:43:59.165442Z",
     "iopub.status.busy": "2021-06-11T19:43:59.164609Z",
     "iopub.status.idle": "2021-06-11T19:44:00.189363Z",
     "shell.execute_reply": "2021-06-11T19:44:00.188202Z",
     "shell.execute_reply.started": "2021-06-11T19:39:36.376963Z"
    },
    "papermill": {
     "duration": 1.050917,
     "end_time": "2021-06-11T19:44:00.189594",
     "exception": false,
     "start_time": "2021-06-11T19:43:59.138677",
     "status": "completed"
    },
    "tags": []
   },
   "outputs": [
    {
     "name": "stdout",
     "output_type": "stream",
     "text": [
      "/kaggle/input/salary-with-regression/Salary_Data.csv\n"
     ]
    }
   ],
   "source": [
    "# This Python 3 environment comes with many helpful analytics libraries installed\n",
    "# It is defined by the kaggle/python Docker image: https://github.com/kaggle/docker-python\n",
    "# For example, here's several helpful packages to load\n",
    "\n",
    "import numpy as np # linear algebra\n",
    "import pandas as pd # data processing, CSV file I/O (e.g. pd.read_csv)\n",
    "import matplotlib.pyplot as plt\n",
    "# Input data files are available in the read-only \"../input/\" directory\n",
    "# For example, running this (by clicking run or pressing Shift+Enter) will list all files under the input directory\n",
    "from sklearn.model_selection import train_test_split\n",
    "import os\n",
    "for dirname, _, filenames in os.walk('/kaggle/input'):\n",
    "    for filename in filenames:\n",
    "        print(os.path.join(dirname, filename))\n",
    "\n",
    "# You can write up to 20GB to the current directory (/kaggle/working/) that gets preserved as output when you create a version using \"Save & Run All\" \n",
    "# You can also write temporary files to /kaggle/temp/, but they won't be saved outside of the current session"
   ]
  },
  {
   "cell_type": "code",
   "execution_count": 2,
   "id": "conceptual-registrar",
   "metadata": {
    "execution": {
     "iopub.execute_input": "2021-06-11T19:44:00.224620Z",
     "iopub.status.busy": "2021-06-11T19:44:00.223789Z",
     "iopub.status.idle": "2021-06-11T19:44:00.234692Z",
     "shell.execute_reply": "2021-06-11T19:44:00.235164Z",
     "shell.execute_reply.started": "2021-06-11T19:39:38.861289Z"
    },
    "papermill": {
     "duration": 0.030423,
     "end_time": "2021-06-11T19:44:00.235452",
     "exception": false,
     "start_time": "2021-06-11T19:44:00.205029",
     "status": "completed"
    },
    "tags": []
   },
   "outputs": [],
   "source": [
    "data = pd.read_csv(\"/kaggle/input/salary-with-regression/Salary_Data.csv\")"
   ]
  },
  {
   "cell_type": "code",
   "execution_count": 3,
   "id": "senior-surge",
   "metadata": {
    "execution": {
     "iopub.execute_input": "2021-06-11T19:44:00.266509Z",
     "iopub.status.busy": "2021-06-11T19:44:00.265870Z",
     "iopub.status.idle": "2021-06-11T19:44:00.273860Z",
     "shell.execute_reply": "2021-06-11T19:44:00.274361Z",
     "shell.execute_reply.started": "2021-06-11T19:39:40.174275Z"
    },
    "papermill": {
     "duration": 0.025026,
     "end_time": "2021-06-11T19:44:00.274542",
     "exception": false,
     "start_time": "2021-06-11T19:44:00.249516",
     "status": "completed"
    },
    "tags": []
   },
   "outputs": [
    {
     "data": {
      "text/plain": [
       "(30, 2)"
      ]
     },
     "execution_count": 3,
     "metadata": {},
     "output_type": "execute_result"
    }
   ],
   "source": [
    "data.shape"
   ]
  },
  {
   "cell_type": "code",
   "execution_count": 4,
   "id": "consecutive-orleans",
   "metadata": {
    "execution": {
     "iopub.execute_input": "2021-06-11T19:44:00.312724Z",
     "iopub.status.busy": "2021-06-11T19:44:00.311747Z",
     "iopub.status.idle": "2021-06-11T19:44:00.329875Z",
     "shell.execute_reply": "2021-06-11T19:44:00.329205Z",
     "shell.execute_reply.started": "2021-06-11T19:39:41.451751Z"
    },
    "papermill": {
     "duration": 0.041061,
     "end_time": "2021-06-11T19:44:00.330024",
     "exception": false,
     "start_time": "2021-06-11T19:44:00.288963",
     "status": "completed"
    },
    "tags": []
   },
   "outputs": [
    {
     "data": {
      "text/html": [
       "<div>\n",
       "<style scoped>\n",
       "    .dataframe tbody tr th:only-of-type {\n",
       "        vertical-align: middle;\n",
       "    }\n",
       "\n",
       "    .dataframe tbody tr th {\n",
       "        vertical-align: top;\n",
       "    }\n",
       "\n",
       "    .dataframe thead th {\n",
       "        text-align: right;\n",
       "    }\n",
       "</style>\n",
       "<table border=\"1\" class=\"dataframe\">\n",
       "  <thead>\n",
       "    <tr style=\"text-align: right;\">\n",
       "      <th></th>\n",
       "      <th>YearsExperience</th>\n",
       "      <th>Salary</th>\n",
       "    </tr>\n",
       "  </thead>\n",
       "  <tbody>\n",
       "    <tr>\n",
       "      <th>0</th>\n",
       "      <td>1.1</td>\n",
       "      <td>39343.0</td>\n",
       "    </tr>\n",
       "    <tr>\n",
       "      <th>1</th>\n",
       "      <td>1.3</td>\n",
       "      <td>46205.0</td>\n",
       "    </tr>\n",
       "    <tr>\n",
       "      <th>2</th>\n",
       "      <td>1.5</td>\n",
       "      <td>37731.0</td>\n",
       "    </tr>\n",
       "    <tr>\n",
       "      <th>3</th>\n",
       "      <td>2.0</td>\n",
       "      <td>43525.0</td>\n",
       "    </tr>\n",
       "    <tr>\n",
       "      <th>4</th>\n",
       "      <td>2.2</td>\n",
       "      <td>39891.0</td>\n",
       "    </tr>\n",
       "  </tbody>\n",
       "</table>\n",
       "</div>"
      ],
      "text/plain": [
       "   YearsExperience   Salary\n",
       "0              1.1  39343.0\n",
       "1              1.3  46205.0\n",
       "2              1.5  37731.0\n",
       "3              2.0  43525.0\n",
       "4              2.2  39891.0"
      ]
     },
     "execution_count": 4,
     "metadata": {},
     "output_type": "execute_result"
    }
   ],
   "source": [
    "data.head(5)"
   ]
  },
  {
   "cell_type": "code",
   "execution_count": 5,
   "id": "abstract-subscriber",
   "metadata": {
    "execution": {
     "iopub.execute_input": "2021-06-11T19:44:00.369292Z",
     "iopub.status.busy": "2021-06-11T19:44:00.368530Z",
     "iopub.status.idle": "2021-06-11T19:44:00.371961Z",
     "shell.execute_reply": "2021-06-11T19:44:00.371307Z",
     "shell.execute_reply.started": "2021-06-11T19:39:42.824139Z"
    },
    "papermill": {
     "duration": 0.027019,
     "end_time": "2021-06-11T19:44:00.372118",
     "exception": false,
     "start_time": "2021-06-11T19:44:00.345099",
     "status": "completed"
    },
    "tags": []
   },
   "outputs": [],
   "source": [
    "train, test = train_test_split(data, test_size=0.4, random_state=1, shuffle=True)"
   ]
  },
  {
   "cell_type": "code",
   "execution_count": 6,
   "id": "otherwise-monster",
   "metadata": {
    "execution": {
     "iopub.execute_input": "2021-06-11T19:44:00.408462Z",
     "iopub.status.busy": "2021-06-11T19:44:00.407506Z",
     "iopub.status.idle": "2021-06-11T19:44:00.411966Z",
     "shell.execute_reply": "2021-06-11T19:44:00.411344Z",
     "shell.execute_reply.started": "2021-06-11T19:39:45.876169Z"
    },
    "papermill": {
     "duration": 0.024729,
     "end_time": "2021-06-11T19:44:00.412119",
     "exception": false,
     "start_time": "2021-06-11T19:44:00.387390",
     "status": "completed"
    },
    "tags": []
   },
   "outputs": [
    {
     "data": {
      "text/plain": [
       "((18, 2), (12, 2))"
      ]
     },
     "execution_count": 6,
     "metadata": {},
     "output_type": "execute_result"
    }
   ],
   "source": [
    "train.shape, test.shape"
   ]
  },
  {
   "cell_type": "code",
   "execution_count": 7,
   "id": "pleasant-stevens",
   "metadata": {
    "execution": {
     "iopub.execute_input": "2021-06-11T19:44:00.455372Z",
     "iopub.status.busy": "2021-06-11T19:44:00.454364Z",
     "iopub.status.idle": "2021-06-11T19:44:00.458849Z",
     "shell.execute_reply": "2021-06-11T19:44:00.458240Z",
     "shell.execute_reply.started": "2021-06-11T19:39:47.854889Z"
    },
    "papermill": {
     "duration": 0.031126,
     "end_time": "2021-06-11T19:44:00.459009",
     "exception": false,
     "start_time": "2021-06-11T19:44:00.427883",
     "status": "completed"
    },
    "tags": []
   },
   "outputs": [
    {
     "data": {
      "text/html": [
       "<div>\n",
       "<style scoped>\n",
       "    .dataframe tbody tr th:only-of-type {\n",
       "        vertical-align: middle;\n",
       "    }\n",
       "\n",
       "    .dataframe tbody tr th {\n",
       "        vertical-align: top;\n",
       "    }\n",
       "\n",
       "    .dataframe thead th {\n",
       "        text-align: right;\n",
       "    }\n",
       "</style>\n",
       "<table border=\"1\" class=\"dataframe\">\n",
       "  <thead>\n",
       "    <tr style=\"text-align: right;\">\n",
       "      <th></th>\n",
       "      <th>YearsExperience</th>\n",
       "      <th>Salary</th>\n",
       "    </tr>\n",
       "  </thead>\n",
       "  <tbody>\n",
       "    <tr>\n",
       "      <th>YearsExperience</th>\n",
       "      <td>1.000000</td>\n",
       "      <td>0.978242</td>\n",
       "    </tr>\n",
       "    <tr>\n",
       "      <th>Salary</th>\n",
       "      <td>0.978242</td>\n",
       "      <td>1.000000</td>\n",
       "    </tr>\n",
       "  </tbody>\n",
       "</table>\n",
       "</div>"
      ],
      "text/plain": [
       "                 YearsExperience    Salary\n",
       "YearsExperience         1.000000  0.978242\n",
       "Salary                  0.978242  1.000000"
      ]
     },
     "execution_count": 7,
     "metadata": {},
     "output_type": "execute_result"
    }
   ],
   "source": [
    "data.corr()"
   ]
  },
  {
   "cell_type": "code",
   "execution_count": 8,
   "id": "inside-weather",
   "metadata": {
    "execution": {
     "iopub.execute_input": "2021-06-11T19:44:00.495025Z",
     "iopub.status.busy": "2021-06-11T19:44:00.494339Z",
     "iopub.status.idle": "2021-06-11T19:44:01.532645Z",
     "shell.execute_reply": "2021-06-11T19:44:01.531854Z",
     "shell.execute_reply.started": "2021-06-11T19:39:49.209317Z"
    },
    "papermill": {
     "duration": 1.05821,
     "end_time": "2021-06-11T19:44:01.532815",
     "exception": false,
     "start_time": "2021-06-11T19:44:00.474605",
     "status": "completed"
    },
    "tags": []
   },
   "outputs": [
    {
     "data": {
      "text/plain": [
       "<seaborn.axisgrid.PairGrid at 0x7f437eab9dd0>"
      ]
     },
     "execution_count": 8,
     "metadata": {},
     "output_type": "execute_result"
    },
    {
     "data": {
      "image/png": "[encoded data removed]",
      "text/plain": [
       "<Figure size 360x360 with 6 Axes>"
      ]
     },
     "metadata": {
      "needs_background": "light"
     },
     "output_type": "display_data"
    }
   ],
   "source": [
    "import seaborn as sns\n",
    "\n",
    "sns.pairplot(data)"
   ]
  },
  {
   "cell_type": "code",
   "execution_count": 9,
   "id": "comic-explosion",
   "metadata": {
    "execution": {
     "iopub.execute_input": "2021-06-11T19:44:01.583030Z",
     "iopub.status.busy": "2021-06-11T19:44:01.582001Z",
     "iopub.status.idle": "2021-06-11T19:44:01.797472Z",
     "shell.execute_reply": "2021-06-11T19:44:01.797972Z",
     "shell.execute_reply.started": "2021-06-11T19:39:50.889152Z"
    },
    "papermill": {
     "duration": 0.241175,
     "end_time": "2021-06-11T19:44:01.798167",
     "exception": false,
     "start_time": "2021-06-11T19:44:01.556992",
     "status": "completed"
    },
    "tags": []
   },
   "outputs": [],
   "source": [
    "from sklearn.linear_model import  LinearRegression\n",
    "lg = LinearRegression()"
   ]
  },
  {
   "cell_type": "code",
   "execution_count": 10,
   "id": "efficient-lemon",
   "metadata": {
    "execution": {
     "iopub.execute_input": "2021-06-11T19:44:01.836958Z",
     "iopub.status.busy": "2021-06-11T19:44:01.835970Z",
     "iopub.status.idle": "2021-06-11T19:44:01.861513Z",
     "shell.execute_reply": "2021-06-11T19:44:01.860988Z",
     "shell.execute_reply.started": "2021-06-11T19:39:52.198970Z"
    },
    "papermill": {
     "duration": 0.045341,
     "end_time": "2021-06-11T19:44:01.861660",
     "exception": false,
     "start_time": "2021-06-11T19:44:01.816319",
     "status": "completed"
    },
    "tags": []
   },
   "outputs": [
    {
     "data": {
      "text/plain": [
       "LinearRegression()"
      ]
     },
     "execution_count": 10,
     "metadata": {},
     "output_type": "execute_result"
    }
   ],
   "source": [
    "lg.fit(train[['YearsExperience']],train.Salary)"
   ]
  },
  {
   "cell_type": "code",
   "execution_count": 11,
   "id": "pleased-cleveland",
   "metadata": {
    "execution": {
     "iopub.execute_input": "2021-06-11T19:44:01.932503Z",
     "iopub.status.busy": "2021-06-11T19:44:01.931675Z",
     "iopub.status.idle": "2021-06-11T19:44:02.258107Z",
     "shell.execute_reply": "2021-06-11T19:44:02.257591Z",
     "shell.execute_reply.started": "2021-06-11T19:39:53.502214Z"
    },
    "papermill": {
     "duration": 0.379696,
     "end_time": "2021-06-11T19:44:02.258273",
     "exception": false,
     "start_time": "2021-06-11T19:44:01.878577",
     "status": "completed"
    },
    "tags": []
   },
   "outputs": [
    {
     "name": "stdout",
     "output_type": "stream",
     "text": [
      "r2 score: 0.906786576108805\n",
      "Coefficients:  [8780.54133512]\n"
     ]
    },
    {
     "data": {
      "text/plain": [
       "<AxesSubplot:>"
      ]
     },
     "execution_count": 11,
     "metadata": {},
     "output_type": "execute_result"
    },
    {
     "data": {
      "image/png": "[encoded data removed]",
      "text/plain": [
       "<Figure size 432x288 with 1 Axes>"
      ]
     },
     "metadata": {
      "needs_background": "light"
     },
     "output_type": "display_data"
    },
    {
     "data": {
      "image/png": "[encoded data removed]",
      "text/plain": [
       "<Figure size 432x288 with 1 Axes>"
      ]
     },
     "metadata": {
      "needs_background": "light"
     },
     "output_type": "display_data"
    }
   ],
   "source": [
    "X_test = test[['YearsExperience']]\n",
    "Y_test = test.Salary\n",
    "Y_predict = lg.predict(X_test);\n",
    "from sklearn.metrics import r2_score\n",
    "print(\"r2 score:\",r2_score(Y_test,Y_predict))\n",
    "print('Coefficients: ', lg.coef_)\n",
    "\n",
    "plt.plot(Y_test,Y_predict)\n",
    "data.plot(style=['o','rx'])"
   ]
  },
  {
   "cell_type": "code",
   "execution_count": 12,
   "id": "driving-forum",
   "metadata": {
    "execution": {
     "iopub.execute_input": "2021-06-11T19:44:02.313535Z",
     "iopub.status.busy": "2021-06-11T19:44:02.310734Z",
     "iopub.status.idle": "2021-06-11T19:44:02.342315Z",
     "shell.execute_reply": "2021-06-11T19:44:02.341658Z",
     "shell.execute_reply.started": "2021-06-11T19:39:54.851315Z"
    },
    "papermill": {
     "duration": 0.063599,
     "end_time": "2021-06-11T19:44:02.342457",
     "exception": false,
     "start_time": "2021-06-11T19:44:02.278858",
     "status": "completed"
    },
    "tags": []
   },
   "outputs": [
    {
     "data": {
      "text/plain": [
       "LogisticRegression()"
      ]
     },
     "execution_count": 12,
     "metadata": {},
     "output_type": "execute_result"
    }
   ],
   "source": [
    "from sklearn.linear_model import LogisticRegression\n",
    "\n",
    "logisticRegr = LogisticRegression()\n",
    "\n",
    "logisticRegr.fit(train[['YearsExperience']],train.Salary)"
   ]
  },
  {
   "cell_type": "code",
   "execution_count": 13,
   "id": "labeled-melbourne",
   "metadata": {
    "execution": {
     "iopub.execute_input": "2021-06-11T19:44:02.410010Z",
     "iopub.status.busy": "2021-06-11T19:44:02.407779Z",
     "iopub.status.idle": "2021-06-11T19:44:02.704782Z",
     "shell.execute_reply": "2021-06-11T19:44:02.704188Z",
     "shell.execute_reply.started": "2021-06-11T19:39:56.212650Z"
    },
    "papermill": {
     "duration": 0.342847,
     "end_time": "2021-06-11T19:44:02.704921",
     "exception": false,
     "start_time": "2021-06-11T19:44:02.362074",
     "status": "completed"
    },
    "tags": []
   },
   "outputs": [
    {
     "name": "stdout",
     "output_type": "stream",
     "text": [
      "R2 score: 0.9301473721719464\n",
      "Coefficients:  [8780.54133512]\n"
     ]
    },
    {
     "data": {
      "text/plain": [
       "<AxesSubplot:>"
      ]
     },
     "execution_count": 13,
     "metadata": {},
     "output_type": "execute_result"
    },
    {
     "data": {
      "image/png": "[encoded data removed]",
      "text/plain": [
       "<Figure size 432x288 with 1 Axes>"
      ]
     },
     "metadata": {
      "needs_background": "light"
     },
     "output_type": "display_data"
    },
    {
     "data": {
      "image/png": "[encoded data removed]",
      "text/plain": [
       "<Figure size 432x288 with 1 Axes>"
      ]
     },
     "metadata": {
      "needs_background": "light"
     },
     "output_type": "display_data"
    }
   ],
   "source": [
    "X_test = test[['YearsExperience']]\n",
    "Y_test = test.Salary\n",
    "Y_predict = logisticRegr.predict(X_test);\n",
    "from sklearn.metrics import r2_score\n",
    "print(\"R2 score:\",r2_score(Y_test,Y_predict))\n",
    "print('Coefficients: ', lg.coef_)\n",
    "\n",
    "plt.plot(Y_test,Y_predict)\n",
    "data.plot(style=['o','rx'])"
   ]
  },
  {
   "cell_type": "code",
   "execution_count": 14,
   "id": "cathedral-generation",
   "metadata": {
    "execution": {
     "iopub.execute_input": "2021-06-11T19:44:02.754643Z",
     "iopub.status.busy": "2021-06-11T19:44:02.753713Z",
     "iopub.status.idle": "2021-06-11T19:44:02.758561Z",
     "shell.execute_reply": "2021-06-11T19:44:02.758011Z",
     "shell.execute_reply.started": "2021-06-11T19:39:57.508886Z"
    },
    "papermill": {
     "duration": 0.031696,
     "end_time": "2021-06-11T19:44:02.758705",
     "exception": false,
     "start_time": "2021-06-11T19:44:02.727009",
     "status": "completed"
    },
    "tags": []
   },
   "outputs": [
    {
     "ename": "SyntaxError",
     "evalue": "invalid syntax (<ipython-input-14-c21be2f087ad>, line 1)",
     "output_type": "error",
     "traceback": [
      "\u001b[0;36m  File \u001b[0;32m\"<ipython-input-14-c21be2f087ad>\"\u001b[0;36m, line \u001b[0;32m1\u001b[0m\n\u001b[0;31m    Implemented this dataset with Linear and Logistic Regression with 90% and 92% R2 score respectively with random_state=1. With random_state=42, R2 score for Linear and Logistic Regression was 95%.\u001b[0m\n\u001b[0m                   ^\u001b[0m\n\u001b[0;31mSyntaxError\u001b[0m\u001b[0;31m:\u001b[0m invalid syntax\n"
     ]
    }
   ],
   "source": [
    "Implemented this dataset with Linear and Logistic Regression with 90% and 92% R2 score respectively with random_state=1. With random_state=42, R2 score for Linear and Logistic Regression was 95%."
   ]
  },
  {
   "cell_type": "code",
   "execution_count": 15,
   "id": "perfect-mortgage",
   "metadata": {
    "execution": {
     "iopub.execute_input": "2021-06-11T19:44:02.811641Z",
     "iopub.status.busy": "2021-06-11T19:44:02.809057Z",
     "iopub.status.idle": "2021-06-11T19:44:02.817345Z",
     "shell.execute_reply": "2021-06-11T19:44:02.817776Z",
     "shell.execute_reply.started": "2021-06-11T19:40:43.145722Z"
    },
    "papermill": {
     "duration": 0.036332,
     "end_time": "2021-06-11T19:44:02.817950",
     "exception": false,
     "start_time": "2021-06-11T19:44:02.781618",
     "status": "completed"
    },
    "tags": []
   },
   "outputs": [
    {
     "name": "stdout",
     "output_type": "stream",
     "text": [
      "[[0 0 0 0 0 0 0 0 0 0 0 0 0 0 0 0 0 0 0]\n",
      " [1 0 0 0 0 0 0 0 0 0 0 0 0 0 0 0 0 0 0]\n",
      " [1 0 0 0 0 0 0 0 0 0 0 0 0 0 0 0 0 0 0]\n",
      " [0 0 0 0 0 0 0 0 0 0 0 0 0 0 0 0 0 0 0]\n",
      " [0 0 0 0 0 0 1 0 0 0 0 0 0 0 0 0 0 0 0]\n",
      " [0 0 0 1 0 0 0 0 0 0 0 0 0 0 0 0 0 0 0]\n",
      " [0 0 0 0 0 0 0 0 0 0 0 0 0 0 0 0 0 0 0]\n",
      " [0 0 0 0 0 0 0 0 0 0 0 0 0 0 0 0 0 0 0]\n",
      " [0 0 0 0 0 0 0 1 0 0 0 0 0 0 0 0 0 0 0]\n",
      " [0 0 0 0 0 0 0 1 0 0 0 0 0 0 0 0 0 0 0]\n",
      " [0 0 0 0 0 0 0 1 0 0 0 0 0 0 0 0 0 0 0]\n",
      " [0 0 0 0 0 0 0 0 0 0 0 0 0 1 0 0 0 0 0]\n",
      " [0 0 0 0 0 0 0 0 0 0 0 0 0 1 0 0 0 0 0]\n",
      " [0 0 0 0 0 0 0 0 0 0 0 0 0 0 0 0 0 0 0]\n",
      " [0 0 0 0 0 0 0 0 0 0 0 0 0 0 0 1 0 0 0]\n",
      " [0 0 0 0 0 0 0 0 0 0 0 0 0 0 0 0 0 0 0]\n",
      " [0 0 0 0 0 0 0 0 0 0 0 0 0 1 0 0 0 0 0]\n",
      " [0 0 0 0 0 0 0 0 0 0 0 0 0 0 0 0 0 0 1]\n",
      " [0 0 0 0 0 0 0 0 0 0 0 0 0 0 0 0 0 0 0]]\n"
     ]
    }
   ],
   "source": [
    "import matplotlib.pyplot as plt\n",
    "import seaborn as sns\n",
    "from sklearn import metrics\n",
    "\n",
    "cm = metrics.confusion_matrix(Y_test,Y_predict)\n",
    "print(cm)"
   ]
  },
  {
   "cell_type": "markdown",
   "id": "divided-guyana",
   "metadata": {
    "papermill": {
     "duration": 0.023179,
     "end_time": "2021-06-11T19:44:02.865127",
     "exception": false,
     "start_time": "2021-06-11T19:44:02.841948",
     "status": "completed"
    },
    "tags": []
   },
   "source": []
  }
 ],
 "metadata": {
  "kernelspec": {
   "display_name": "Python 3",
   "language": "python",
   "name": "python3"
  },
  "language_info": {
   "codemirror_mode": {
    "name": "ipython",
    "version": 3
   },
   "file_extension": ".py",
   "mimetype": "text/x-python",
   "name": "python",
   "nbconvert_exporter": "python",
   "pygments_lexer": "ipython3",
   "version": "3.7.10"
  },
  "papermill": {
   "default_parameters": {},
   "duration": 14.016426,
   "end_time": "2021-06-11T19:44:04.315411",
   "environment_variables": {},
   "exception": null,
   "input_path": "__notebook__.ipynb",
   "output_path": "__notebook__.ipynb",
   "parameters": {},
   "start_time": "2021-06-11T19:43:50.298985",
   "version": "2.3.3"
  }
 },
 "nbformat": 4,
 "nbformat_minor": 5
}
